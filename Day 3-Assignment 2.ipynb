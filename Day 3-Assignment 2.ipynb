{
 "cells": [
  {
   "cell_type": "code",
   "execution_count": 1,
   "metadata": {},
   "outputs": [],
   "source": [
    "# Learn about in built functions of Python objects"
   ]
  },
  {
   "cell_type": "code",
   "execution_count": 2,
   "metadata": {},
   "outputs": [],
   "source": [
    "#LIST         --->        ORDERED     CHANGEABLE           DUPLICATES         []\n",
    "#TUPLE        --->        ORDERED     UNCHANGEABLE         DUPLICATES         ()\n",
    "#SET          --->        UNORDERED   ADDABLE/REMOVABLE    NO DUPLICATES      {}\n",
    "#DICTIONARY   --->        UNORDERED   CHANGEABLE           NO DUPLICATES      {}"
   ]
  },
  {
   "cell_type": "code",
   "execution_count": 3,
   "metadata": {},
   "outputs": [],
   "source": [
    "L=[1,3,4.9,\"name\",3]   #List\n",
    "T=(1,3,4.9,\"name\",3)   #Tuple\n",
    "S={1,3,4.9,\"name\",3}   #Set\n",
    "D={23:\"twothree\",'B':43,'c':'CCD'}    #Dictionary"
   ]
  },
  {
   "cell_type": "code",
   "execution_count": 4,
   "metadata": {},
   "outputs": [
    {
     "name": "stdout",
     "output_type": "stream",
     "text": [
      "The type of L is  <class 'list'>\n",
      "The type of T is  <class 'tuple'>\n",
      "The type of S is  <class 'set'>\n",
      "The type of D is  <class 'dict'>\n"
     ]
    }
   ],
   "source": [
    "print(\"The type of L is \",type(L))\n",
    "print(\"The type of T is \",type(T))\n",
    "print(\"The type of S is \",type(S))\n",
    "print(\"The type of D is \",type(D))"
   ]
  },
  {
   "cell_type": "code",
   "execution_count": 5,
   "metadata": {},
   "outputs": [
    {
     "name": "stdout",
     "output_type": "stream",
     "text": [
      "3\n",
      "3\n",
      "True\n",
      "twothree\n",
      "43\n",
      "{1, 'name', 3, 4.9}\n"
     ]
    }
   ],
   "source": [
    "print(L[1])\n",
    "print(T[1])\n",
    "print(3 in S)\n",
    "print(D[23])\n",
    "print(D['B'])\n",
    "print(S)"
   ]
  },
  {
   "cell_type": "code",
   "execution_count": 6,
   "metadata": {},
   "outputs": [
    {
     "name": "stdout",
     "output_type": "stream",
     "text": [
      "[3, 4.9]\n",
      "[3, 'name', 4.9, 3, 1]\n",
      "(3, 4.9)\n"
     ]
    }
   ],
   "source": [
    "print(L[1:3])\n",
    "print(L[::-1])\n",
    "print(T[1:3])"
   ]
  },
  {
   "cell_type": "code",
   "execution_count": 8,
   "metadata": {},
   "outputs": [
    {
     "name": "stdout",
     "output_type": "stream",
     "text": [
      "[1, 3, 4.9, 'name', 3, 'how', 'are', 6, 'you']\n",
      "[1, 3, 4.9, 'name', 3, 'how', 'are', 6, 'you', 6.8]\n"
     ]
    }
   ],
   "source": [
    "L= L+['how','are',6,'you']\n",
    "print(L)\n",
    "#                                                       OR\n",
    "L.append(6.8)\n",
    "print(L)"
   ]
  },
  {
   "cell_type": "code",
   "execution_count": 9,
   "metadata": {},
   "outputs": [
    {
     "name": "stdout",
     "output_type": "stream",
     "text": [
      "[1, 3, 4.9, 3, 'how', 'are', 6, 'you', 6.8]\n"
     ]
    }
   ],
   "source": [
    "del L[3]\n",
    "print(L)"
   ]
  },
  {
   "cell_type": "code",
   "execution_count": 10,
   "metadata": {},
   "outputs": [
    {
     "name": "stdout",
     "output_type": "stream",
     "text": [
      "(1, 3, 4.9, 'name', 3, 'a', 'b', 'c')\n",
      "(1, 3, 4.9, 'name', 3)\n"
     ]
    }
   ],
   "source": [
    "T2=('a','b','c')\n",
    "T3=T+T2\n",
    "print(T3)\n",
    "print(T) "
   ]
  },
  {
   "cell_type": "code",
   "execution_count": 11,
   "metadata": {},
   "outputs": [
    {
     "name": "stdout",
     "output_type": "stream",
     "text": [
      "{1, 3, 4.9, 'name', 56}\n",
      "{1, 3, 4.9, 'name', 'game', 23, 56}\n"
     ]
    }
   ],
   "source": [
    "S.add(56)\n",
    "print(S)\n",
    "#                                       OR\n",
    "S.update({23,\"game\",1})\n",
    "print(S)"
   ]
  },
  {
   "cell_type": "code",
   "execution_count": 12,
   "metadata": {},
   "outputs": [
    {
     "name": "stdout",
     "output_type": "stream",
     "text": [
      "{1, 3, 4.9, 'name', 23, 56}\n"
     ]
    }
   ],
   "source": [
    "S.remove('game')\n",
    "print(S)"
   ]
  },
  {
   "cell_type": "code",
   "execution_count": 17,
   "metadata": {},
   "outputs": [
    {
     "name": "stdout",
     "output_type": "stream",
     "text": [
      "{23: 'twothree', 'B': 43, 'c': 'CCD', 'newkey': 'newvalue'}\n",
      "{23: 'twothree', 'B': 43, 'c': 'CCD', 'newkey': 'newvalue'}\n"
     ]
    }
   ],
   "source": [
    "D['newkey']=\"newvalue\"\n",
    "print(D)\n",
    "#                                              OR\n",
    "D.update(D)\n",
    "print(D)"
   ]
  },
  {
   "cell_type": "code",
   "execution_count": 18,
   "metadata": {},
   "outputs": [
    {
     "name": "stdout",
     "output_type": "stream",
     "text": [
      "{23: 'twothree', 'B': 43, 'newkey': 'newvalue'}\n"
     ]
    }
   ],
   "source": [
    "del D['c']\n",
    "print(D)"
   ]
  },
  {
   "cell_type": "code",
   "execution_count": 19,
   "metadata": {},
   "outputs": [
    {
     "name": "stdout",
     "output_type": "stream",
     "text": [
      "[1, 3, 4.9, 3, 'how', 'are', 6, 'you', 6.8]\n"
     ]
    }
   ],
   "source": [
    "L2=L\n",
    "print(L2)"
   ]
  },
  {
   "cell_type": "code",
   "execution_count": 20,
   "metadata": {},
   "outputs": [
    {
     "data": {
      "text/plain": [
       "dict_items([(23, 'twothree'), ('B', 43), ('newkey', 'newvalue')])"
      ]
     },
     "execution_count": 20,
     "metadata": {},
     "output_type": "execute_result"
    }
   ],
   "source": [
    "D.items()"
   ]
  }
 ],
 "metadata": {
  "kernelspec": {
   "display_name": "Python 3",
   "language": "python",
   "name": "python3"
  },
  "language_info": {
   "codemirror_mode": {
    "name": "ipython",
    "version": 3
   },
   "file_extension": ".py",
   "mimetype": "text/x-python",
   "name": "python",
   "nbconvert_exporter": "python",
   "pygments_lexer": "ipython3",
   "version": "3.8.5"
  }
 },
 "nbformat": 4,
 "nbformat_minor": 4
}
