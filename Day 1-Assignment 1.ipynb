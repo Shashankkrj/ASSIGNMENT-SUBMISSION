{
 "cells": [
  {
   "cell_type": "code",
   "execution_count": 2,
   "metadata": {},
   "outputs": [],
   "source": [
    "# Assignment - 1\n",
    "\n",
    "# get random names of the people in the list using For loop, Maxmium participant variable and input() function\n",
    "# and then get your lottery run "
   ]
  },
  {
   "cell_type": "code",
   "execution_count": 5,
   "metadata": {},
   "outputs": [
    {
     "name": "stdout",
     "output_type": "stream",
     "text": [
      "Enter the no. of maximum participant in the lottery:-5\n",
      "Enter the name of participant:-Shashank\n",
      "Enter the name of participant:-Ram\n",
      "Enter the name of participant:-Shyam\n",
      "Enter the name of participant:-SriRam\n",
      "Enter the name of participant:-Mahesh\n",
      "['Shashank', 'Ram', 'Shyam', 'SriRam', 'Mahesh']\n",
      "1\n",
      "Lottery winner is:  Ram\n"
     ]
    }
   ],
   "source": [
    "import random\n",
    "maximum_participant=int(input(\"Enter the no. of maximum participant in the lottery:-\"))\n",
    "L=[]\n",
    "for i in range(0,maximum_participant):\n",
    "    Name=input(\"Enter the name of participant:-\")\n",
    "    L.append(Name)\n",
    "print(L)\n",
    "n=random.randint(0,maximum_participant)\n",
    "print(n)\n",
    "print(\"Lottery winner is: \",L[n])"
   ]
  },
  {
   "cell_type": "code",
   "execution_count": null,
   "metadata": {},
   "outputs": [],
   "source": []
  }
 ],
 "metadata": {
  "kernelspec": {
   "display_name": "Python 3",
   "language": "python",
   "name": "python3"
  },
  "language_info": {
   "codemirror_mode": {
    "name": "ipython",
    "version": 3
   },
   "file_extension": ".py",
   "mimetype": "text/x-python",
   "name": "python",
   "nbconvert_exporter": "python",
   "pygments_lexer": "ipython3",
   "version": "3.8.5"
  }
 },
 "nbformat": 4,
 "nbformat_minor": 4
}
