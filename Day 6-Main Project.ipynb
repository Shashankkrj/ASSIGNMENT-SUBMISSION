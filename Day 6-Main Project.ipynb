{
 "cells": [
  {
   "cell_type": "markdown",
   "metadata": {},
   "source": [
    "# WEATHER FINDER"
   ]
  },
  {
   "cell_type": "code",
   "execution_count": 16,
   "metadata": {},
   "outputs": [
    {
     "name": "stdout",
     "output_type": "stream",
     "text": [
      "Enter city name : supaul\n",
      "Weather Information for City: supaul\n",
      "Temperature (Celsius): 28\n",
      "Feels like in (Celsius): 34\n",
      "Pressure: 1000 hPa\n",
      "Humidity: 81%\n",
      "Info: overcast clouds\n"
     ]
    }
   ],
   "source": [
    "import requests\n",
    "import json\n",
    "from datetime import datetime\n",
    "\n",
    "api_key = \"dd751f5aecefccd330ec9c1a2da35905\"\n",
    "city_name = input(\"Enter city name : \")\n",
    "weather_url = 'https://api.openweathermap.org/data/2.5/weather?q=' + city_name + '&appid='+api_key\n",
    "\n",
    "response = requests.get(weather_url)\n",
    "weather_data = response.json()\n",
    "\n",
    "if weather_data['cod'] == 200:\n",
    "    kelvin = 273.15\n",
    "    temp = int(weather_data['main']['temp'] - kelvin)\n",
    "    feels_like_temp = int(weather_data['main']['feels_like'] - kelvin)\n",
    "    pressure = weather_data['main']['pressure']\n",
    "    humidity = weather_data['main']['humidity']\n",
    "    description = weather_data['weather'][0]['description']\n",
    "\n",
    "    print(f\"Weather Information for City: {city_name}\")\n",
    "    print(f\"Temperature (Celsius): {temp}\")\n",
    "    print(f\"Feels like in (Celsius): {feels_like_temp}\")\n",
    "    print(f\"Pressure: {pressure} hPa\")\n",
    "    print(f\"Humidity: {humidity}%\")\n",
    "    print(f\"Info: {description}\")\n",
    "else:\n",
    "    print(f\"City Name: {city_name} was not found!\")\n"
   ]
  }
 ],
 "metadata": {
  "kernelspec": {
   "display_name": "Python 3",
   "language": "python",
   "name": "python3"
  },
  "language_info": {
   "codemirror_mode": {
    "name": "ipython",
    "version": 3
   },
   "file_extension": ".py",
   "mimetype": "text/x-python",
   "name": "python",
   "nbconvert_exporter": "python",
   "pygments_lexer": "ipython3",
   "version": "3.8.5"
  }
 },
 "nbformat": 4,
 "nbformat_minor": 4
}
