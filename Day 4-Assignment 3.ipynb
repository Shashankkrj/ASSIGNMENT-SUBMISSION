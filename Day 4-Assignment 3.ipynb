{
 "cells": [
  {
   "cell_type": "markdown",
   "metadata": {},
   "source": [
    "# \n",
    "\n",
    "You all are pilots, you have to land a plane, the altitude required for landing a plane is 1000ft, if it is less than that tell pilot to land the plane, or it is more than that but less than 5000ft ask the pilot to “come down to 1000ft”, else if it is more than 5000ft ask the pilot to “go around and try later”\n",
    "\n",
    "Example : Input - 1000 Output - Safe to land\n",
    "\n",
    "Example : Input - 4500 Output - Bring down to 1000\n",
    "\n",
    "Example : Input - 6500 Output - Turn Around"
   ]
  },
  {
   "cell_type": "code",
   "execution_count": 1,
   "metadata": {},
   "outputs": [
    {
     "name": "stdout",
     "output_type": "stream",
     "text": [
      "Enter altitude of plane:-3000\n",
      "Take plane to the 1000ft\n"
     ]
    }
   ],
   "source": [
    "altitude=int(input(\"Enter altitude of plane:-\"))\n",
    "if altitude<=1000:\n",
    "    print(\"Land the plane\")\n",
    "elif altitude>1000 and altitude<=5000:\n",
    "    print(\"Take plane to the 1000ft\")\n",
    "elif altitude>5000:\n",
    "    print(\"Go around and try Later\")"
   ]
  }
 ],
 "metadata": {
  "kernelspec": {
   "display_name": "Python 3",
   "language": "python",
   "name": "python3"
  },
  "language_info": {
   "codemirror_mode": {
    "name": "ipython",
    "version": 3
   },
   "file_extension": ".py",
   "mimetype": "text/x-python",
   "name": "python",
   "nbconvert_exporter": "python",
   "pygments_lexer": "ipython3",
   "version": "3.8.5"
  }
 },
 "nbformat": 4,
 "nbformat_minor": 4
}
